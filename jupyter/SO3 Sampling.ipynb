{
 "cells": [
  {
   "cell_type": "code",
   "execution_count": 223,
   "metadata": {},
   "outputs": [],
   "source": [
    "import torch\n",
    "import numpy as np\n",
    "from liegroups.torch import SE3, SO3\n",
    "import sys\n",
    "sys.path.insert(0,'..')\n",
    "from utils import *"
   ]
  },
  {
   "cell_type": "code",
   "execution_count": 249,
   "metadata": {},
   "outputs": [],
   "source": [
    "#Compute DxD covariance from NxD samples\n",
    "def sample_covariance(samples, assume_zero_mean=False):\n",
    "    sample_mat = samples.transpose(0,1)\n",
    "    if assume_zero_mean:\n",
    "        sample_mean = samples.new_zeros((3,1))\n",
    "    else:\n",
    "        sample_mean = samples.mean(dim=0).view(-1, 1)\n",
    "\n",
    "    return (sample_mat - sample_mean).mm((sample_mat-sample_mean).transpose(0,1))/(samples.shape[0] - 1)\n",
    "\n",
    "def frob_norm(A, B):\n",
    "    return (A-B).norm()"
   ]
  },
  {
   "cell_type": "code",
   "execution_count": 250,
   "metadata": {},
   "outputs": [
    {
     "name": "stdout",
     "output_type": "stream",
     "text": [
      "Average deg error: 3.905 | Covar err: 0.035\n"
     ]
    }
   ],
   "source": [
    "#Mean phi \n",
    "n_samples = 25\n",
    "n_repeat = 1000\n",
    "degree_std = 10\n",
    "\n",
    "error_deg = 0.\n",
    "covar_err = 0.\n",
    "\n",
    "for i in range(n_repeat):\n",
    "    covar = (degree_std*(np.pi/180.))**2 * torch.diag(torch.tensor([1., 1.5, 2.]))\n",
    "    m = torch.distributions.MultivariateNormal(torch.zeros(3), covar)\n",
    "    R_mean = SO3.exp(np.pi*torch.rand(3) - np.pi/2.)\n",
    "    R_samples = SO3.exp(m.rsample([n_samples])).dot(R_mean)\n",
    "    phi_mean_est = R_samples.log()\n",
    "    R_mean_est = SO3.exp(phi_mean_est.mean(dim=0))\n",
    "    error_deg += R_mean.dot(R_mean_est.inv()).log().norm()*(180./np.pi)\n",
    "    covar_err += frob_norm(sample_covariance(phi_new_samples), covar)\n",
    "\n",
    "print('Average deg error: {:.3f} | Covar err: {:.3f}'.format(error_deg/n_repeat, covar_err/n_repeat))\n"
   ]
  },
  {
   "cell_type": "code",
   "execution_count": 291,
   "metadata": {},
   "outputs": [],
   "source": [
    "def compute_quat_stats(R_samples, R_mean):\n",
    "    q_mean = R_mean.to_quaternion()\n",
    "    q_samples = set_quat_sign(R_samples.to_quaternion().unsqueeze(0)).squeeze(0)\n",
    "    q_mean_est = q_samples.mean(dim=0)\n",
    "    R_mean_est = SO3.from_quaternion(q_mean_est/q_mean_est.norm())\n",
    "    phi_diff = quat_log_diff(q_samples, q_mean.repeat([n_samples, 1]))\n",
    "    return R_mean_est, sample_covariance(phi_diff, assume_zero_mean=True)\n",
    "\n",
    "def compute_geo_stats(R_samples, R_mean):\n",
    "    R_s = SO3.from_matrix(R_samples.as_matrix()[0])\n",
    "    for j in range(10):\n",
    "        #Compute logs about T_s\n",
    "        phi_new_samples = R_samples.dot(R_s.inv()).log().double()\n",
    "        phi_delta = phi_new_samples.mean(dim=0)\n",
    "        if phi_delta.norm() < 1e-3:\n",
    "            break\n",
    "        R_s = SO3.exp(phi_delta).dot(R_s)\n",
    "        Sigma = sample_covariance(phi_new_samples, assume_zero_mean=True).double()\n",
    "    return R_s, Sigma\n",
    "\n",
    "def compute_errors(R_est, R_true, Sigma_est, Sigma_true):\n",
    "    ang_err = R_est.dot(R_true.inv()).log().norm()*(180./np.pi)\n",
    "    covar_err = frob_norm(Sigma_est, Sigma_true)\n",
    "    return ang_err, covar_err\n",
    "    "
   ]
  },
  {
   "cell_type": "code",
   "execution_count": 292,
   "metadata": {},
   "outputs": [
    {
     "name": "stdout",
     "output_type": "stream",
     "text": [
      "QUAT deg error: 8.377 | Covar err: 0.134\n",
      "GEO deg error: 8.259 | Covar err: 0.131\n"
     ]
    }
   ],
   "source": [
    "#Compute both\n",
    "n_samples = 25\n",
    "n_repeat = 1000\n",
    "degree_std = 25\n",
    "\n",
    "geo_error_deg = 0.\n",
    "geo_covar_err = 0.\n",
    "quat_error_deg = 0.\n",
    "quat_covar_err = 0.\n",
    "\n",
    "for i in range(n_repeat):\n",
    "    covar = (degree_std*(np.pi/180.))**2 * torch.diag(torch.tensor([1., 0.9, 1.1]))\n",
    "    m = torch.distributions.MultivariateNormal(torch.zeros(3), covar)\n",
    "    R_mean = SO3.exp(np.pi*torch.rand(3).double() - np.pi/2.)\n",
    "    R_samples = SO3.exp(m.rsample([n_samples]).double()).dot(R_mean)\n",
    "    \n",
    "    R_geo, Sigma_geo = compute_geo_stats(R_samples, R_mean)\n",
    "    R_quat, Sigma_quat = compute_quat_stats(R_samples, R_mean)\n",
    "    \n",
    "    #print('R_geo: {} | Sigma_geo: {}'.format(R_geo.as_matrix().dtype, Sigma_geo.dtype))\n",
    "    #print('R_quat: {} | Sigma_quat: {}'.format(R_quat.as_matrix().dtype, Sigma_quat.dtype))\n",
    "\n",
    "    geo_ang_err_i, geo_covar_err_i = compute_errors(R_geo, R_mean, Sigma_geo, covar.double())\n",
    "    quat_ang_err_i, quat_covar_err_i = compute_errors(R_quat, R_mean, Sigma_quat, covar.double())\n",
    "\n",
    "    quat_error_deg += quat_ang_err_i\n",
    "    quat_covar_err += quat_covar_err_i\n",
    "\n",
    "    geo_error_deg += geo_ang_err_i\n",
    "    geo_covar_err += geo_covar_err_i\n",
    "\n",
    "print('QUAT deg error: {:.3f} | Covar err: {:.3f}'.format(quat_error_deg/n_repeat, quat_covar_err/n_repeat))\n",
    "print('GEO deg error: {:.3f} | Covar err: {:.3f}'.format(geo_error_deg/n_repeat, geo_covar_err/n_repeat))"
   ]
  },
  {
   "cell_type": "code",
   "execution_count": null,
   "metadata": {},
   "outputs": [],
   "source": []
  },
  {
   "cell_type": "code",
   "execution_count": null,
   "metadata": {},
   "outputs": [],
   "source": []
  }
 ],
 "metadata": {
  "kernelspec": {
   "display_name": "Python 3",
   "language": "python",
   "name": "python3"
  },
  "language_info": {
   "codemirror_mode": {
    "name": "ipython",
    "version": 3
   },
   "file_extension": ".py",
   "mimetype": "text/x-python",
   "name": "python",
   "nbconvert_exporter": "python",
   "pygments_lexer": "ipython3",
   "version": "3.6.7"
  }
 },
 "nbformat": 4,
 "nbformat_minor": 2
}
