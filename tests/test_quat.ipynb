{
 "cells": [
  {
   "cell_type": "code",
   "execution_count": null,
   "metadata": {},
   "outputs": [],
   "source": [
    "from utils import *\n",
    "from liegroups.torch import SO3"
   ]
  },
  {
   "cell_type": "code",
   "execution_count": null,
   "metadata": {},
   "outputs": [],
   "source": [
    "#Generate random quaternions, take difference and see the result\n",
    "num_quat = 100\n",
    "q1 = normalize_vecs(torch.rand((num_quat, 4)))\n",
    "q2 = normalize_vecs(torch.rand((num_quat, 4)))\n",
    "\n",
    "C1 = SO3.from_quaternion(q1)\n",
    "C2 = SO3.from_quaternion(q2)\n",
    "\n",
    "q3 = quat_compose(q1, quat_inv(q2))\n"
   ]
  }
 ],
 "metadata": {
  "kernelspec": {
   "display_name": "Python 3",
   "language": "python",
   "name": "python3"
  },
  "language_info": {
   "codemirror_mode": {
    "name": "ipython",
    "version": 3
   },
   "file_extension": ".py",
   "mimetype": "text/x-python",
   "name": "python",
   "nbconvert_exporter": "python",
   "pygments_lexer": "ipython3",
   "version": "3.6.7"
  }
 },
 "nbformat": 4,
 "nbformat_minor": 2
}
